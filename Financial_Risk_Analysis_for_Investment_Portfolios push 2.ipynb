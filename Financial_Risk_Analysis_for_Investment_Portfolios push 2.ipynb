{
  "nbformat": 4,
  "nbformat_minor": 0,
  "metadata": {
    "colab": {
      "provenance": [],
      "gpuType": "T4",
      "authorship_tag": "ABX9TyNhMLIPpfmPguz/T+8N1YHS",
      "include_colab_link": true
    },
    "kernelspec": {
      "name": "python3",
      "display_name": "Python 3"
    },
    "language_info": {
      "name": "python"
    },
    "accelerator": "GPU",
    "widgets": {
      "application/vnd.jupyter.widget-state+json": {
        "75dc96cbd76846fc89b405baaeb569e3": {
          "model_module": "@jupyter-widgets/controls",
          "model_name": "HBoxModel",
          "model_module_version": "1.5.0",
          "state": {
            "_dom_classes": [],
            "_model_module": "@jupyter-widgets/controls",
            "_model_module_version": "1.5.0",
            "_model_name": "HBoxModel",
            "_view_count": null,
            "_view_module": "@jupyter-widgets/controls",
            "_view_module_version": "1.5.0",
            "_view_name": "HBoxView",
            "box_style": "",
            "children": [
              "IPY_MODEL_1f0ad38b9b0c4d4f9253c35d74800476",
              "IPY_MODEL_c094829c11aa4575a74413c691af3ef2",
              "IPY_MODEL_05b6875c1f5e4232bd39bfba10d9d7cb"
            ],
            "layout": "IPY_MODEL_1e02b8b2d37348e2a1684bfedd64e0df"
          }
        },
        "1f0ad38b9b0c4d4f9253c35d74800476": {
          "model_module": "@jupyter-widgets/controls",
          "model_name": "HTMLModel",
          "model_module_version": "1.5.0",
          "state": {
            "_dom_classes": [],
            "_model_module": "@jupyter-widgets/controls",
            "_model_module_version": "1.5.0",
            "_model_name": "HTMLModel",
            "_view_count": null,
            "_view_module": "@jupyter-widgets/controls",
            "_view_module_version": "1.5.0",
            "_view_name": "HTMLView",
            "description": "",
            "description_tooltip": null,
            "layout": "IPY_MODEL_3a824b929efb4f66ab6fcc1239349f65",
            "placeholder": "​",
            "style": "IPY_MODEL_ef58795482cb4071ba9f3c0e892c7274",
            "value": "config.json: 100%"
          }
        },
        "c094829c11aa4575a74413c691af3ef2": {
          "model_module": "@jupyter-widgets/controls",
          "model_name": "FloatProgressModel",
          "model_module_version": "1.5.0",
          "state": {
            "_dom_classes": [],
            "_model_module": "@jupyter-widgets/controls",
            "_model_module_version": "1.5.0",
            "_model_name": "FloatProgressModel",
            "_view_count": null,
            "_view_module": "@jupyter-widgets/controls",
            "_view_module_version": "1.5.0",
            "_view_name": "ProgressView",
            "bar_style": "success",
            "description": "",
            "description_tooltip": null,
            "layout": "IPY_MODEL_96b213f544ab497c9ba524d361c4ca29",
            "max": 629,
            "min": 0,
            "orientation": "horizontal",
            "style": "IPY_MODEL_7782d7020c0a40c6abd370b2ecb23f9a",
            "value": 629
          }
        },
        "05b6875c1f5e4232bd39bfba10d9d7cb": {
          "model_module": "@jupyter-widgets/controls",
          "model_name": "HTMLModel",
          "model_module_version": "1.5.0",
          "state": {
            "_dom_classes": [],
            "_model_module": "@jupyter-widgets/controls",
            "_model_module_version": "1.5.0",
            "_model_name": "HTMLModel",
            "_view_count": null,
            "_view_module": "@jupyter-widgets/controls",
            "_view_module_version": "1.5.0",
            "_view_name": "HTMLView",
            "description": "",
            "description_tooltip": null,
            "layout": "IPY_MODEL_9d8cc87742bb4bb6ba10eecb7347a492",
            "placeholder": "​",
            "style": "IPY_MODEL_7ca8cce05f334e578e6541cd7e9fc83b",
            "value": " 629/629 [00:00&lt;00:00, 44.6kB/s]"
          }
        },
        "1e02b8b2d37348e2a1684bfedd64e0df": {
          "model_module": "@jupyter-widgets/base",
          "model_name": "LayoutModel",
          "model_module_version": "1.2.0",
          "state": {
            "_model_module": "@jupyter-widgets/base",
            "_model_module_version": "1.2.0",
            "_model_name": "LayoutModel",
            "_view_count": null,
            "_view_module": "@jupyter-widgets/base",
            "_view_module_version": "1.2.0",
            "_view_name": "LayoutView",
            "align_content": null,
            "align_items": null,
            "align_self": null,
            "border": null,
            "bottom": null,
            "display": null,
            "flex": null,
            "flex_flow": null,
            "grid_area": null,
            "grid_auto_columns": null,
            "grid_auto_flow": null,
            "grid_auto_rows": null,
            "grid_column": null,
            "grid_gap": null,
            "grid_row": null,
            "grid_template_areas": null,
            "grid_template_columns": null,
            "grid_template_rows": null,
            "height": null,
            "justify_content": null,
            "justify_items": null,
            "left": null,
            "margin": null,
            "max_height": null,
            "max_width": null,
            "min_height": null,
            "min_width": null,
            "object_fit": null,
            "object_position": null,
            "order": null,
            "overflow": null,
            "overflow_x": null,
            "overflow_y": null,
            "padding": null,
            "right": null,
            "top": null,
            "visibility": null,
            "width": null
          }
        },
        "3a824b929efb4f66ab6fcc1239349f65": {
          "model_module": "@jupyter-widgets/base",
          "model_name": "LayoutModel",
          "model_module_version": "1.2.0",
          "state": {
            "_model_module": "@jupyter-widgets/base",
            "_model_module_version": "1.2.0",
            "_model_name": "LayoutModel",
            "_view_count": null,
            "_view_module": "@jupyter-widgets/base",
            "_view_module_version": "1.2.0",
            "_view_name": "LayoutView",
            "align_content": null,
            "align_items": null,
            "align_self": null,
            "border": null,
            "bottom": null,
            "display": null,
            "flex": null,
            "flex_flow": null,
            "grid_area": null,
            "grid_auto_columns": null,
            "grid_auto_flow": null,
            "grid_auto_rows": null,
            "grid_column": null,
            "grid_gap": null,
            "grid_row": null,
            "grid_template_areas": null,
            "grid_template_columns": null,
            "grid_template_rows": null,
            "height": null,
            "justify_content": null,
            "justify_items": null,
            "left": null,
            "margin": null,
            "max_height": null,
            "max_width": null,
            "min_height": null,
            "min_width": null,
            "object_fit": null,
            "object_position": null,
            "order": null,
            "overflow": null,
            "overflow_x": null,
            "overflow_y": null,
            "padding": null,
            "right": null,
            "top": null,
            "visibility": null,
            "width": null
          }
        },
        "ef58795482cb4071ba9f3c0e892c7274": {
          "model_module": "@jupyter-widgets/controls",
          "model_name": "DescriptionStyleModel",
          "model_module_version": "1.5.0",
          "state": {
            "_model_module": "@jupyter-widgets/controls",
            "_model_module_version": "1.5.0",
            "_model_name": "DescriptionStyleModel",
            "_view_count": null,
            "_view_module": "@jupyter-widgets/base",
            "_view_module_version": "1.2.0",
            "_view_name": "StyleView",
            "description_width": ""
          }
        },
        "96b213f544ab497c9ba524d361c4ca29": {
          "model_module": "@jupyter-widgets/base",
          "model_name": "LayoutModel",
          "model_module_version": "1.2.0",
          "state": {
            "_model_module": "@jupyter-widgets/base",
            "_model_module_version": "1.2.0",
            "_model_name": "LayoutModel",
            "_view_count": null,
            "_view_module": "@jupyter-widgets/base",
            "_view_module_version": "1.2.0",
            "_view_name": "LayoutView",
            "align_content": null,
            "align_items": null,
            "align_self": null,
            "border": null,
            "bottom": null,
            "display": null,
            "flex": null,
            "flex_flow": null,
            "grid_area": null,
            "grid_auto_columns": null,
            "grid_auto_flow": null,
            "grid_auto_rows": null,
            "grid_column": null,
            "grid_gap": null,
            "grid_row": null,
            "grid_template_areas": null,
            "grid_template_columns": null,
            "grid_template_rows": null,
            "height": null,
            "justify_content": null,
            "justify_items": null,
            "left": null,
            "margin": null,
            "max_height": null,
            "max_width": null,
            "min_height": null,
            "min_width": null,
            "object_fit": null,
            "object_position": null,
            "order": null,
            "overflow": null,
            "overflow_x": null,
            "overflow_y": null,
            "padding": null,
            "right": null,
            "top": null,
            "visibility": null,
            "width": null
          }
        },
        "7782d7020c0a40c6abd370b2ecb23f9a": {
          "model_module": "@jupyter-widgets/controls",
          "model_name": "ProgressStyleModel",
          "model_module_version": "1.5.0",
          "state": {
            "_model_module": "@jupyter-widgets/controls",
            "_model_module_version": "1.5.0",
            "_model_name": "ProgressStyleModel",
            "_view_count": null,
            "_view_module": "@jupyter-widgets/base",
            "_view_module_version": "1.2.0",
            "_view_name": "StyleView",
            "bar_color": null,
            "description_width": ""
          }
        },
        "9d8cc87742bb4bb6ba10eecb7347a492": {
          "model_module": "@jupyter-widgets/base",
          "model_name": "LayoutModel",
          "model_module_version": "1.2.0",
          "state": {
            "_model_module": "@jupyter-widgets/base",
            "_model_module_version": "1.2.0",
            "_model_name": "LayoutModel",
            "_view_count": null,
            "_view_module": "@jupyter-widgets/base",
            "_view_module_version": "1.2.0",
            "_view_name": "LayoutView",
            "align_content": null,
            "align_items": null,
            "align_self": null,
            "border": null,
            "bottom": null,
            "display": null,
            "flex": null,
            "flex_flow": null,
            "grid_area": null,
            "grid_auto_columns": null,
            "grid_auto_flow": null,
            "grid_auto_rows": null,
            "grid_column": null,
            "grid_gap": null,
            "grid_row": null,
            "grid_template_areas": null,
            "grid_template_columns": null,
            "grid_template_rows": null,
            "height": null,
            "justify_content": null,
            "justify_items": null,
            "left": null,
            "margin": null,
            "max_height": null,
            "max_width": null,
            "min_height": null,
            "min_width": null,
            "object_fit": null,
            "object_position": null,
            "order": null,
            "overflow": null,
            "overflow_x": null,
            "overflow_y": null,
            "padding": null,
            "right": null,
            "top": null,
            "visibility": null,
            "width": null
          }
        },
        "7ca8cce05f334e578e6541cd7e9fc83b": {
          "model_module": "@jupyter-widgets/controls",
          "model_name": "DescriptionStyleModel",
          "model_module_version": "1.5.0",
          "state": {
            "_model_module": "@jupyter-widgets/controls",
            "_model_module_version": "1.5.0",
            "_model_name": "DescriptionStyleModel",
            "_view_count": null,
            "_view_module": "@jupyter-widgets/base",
            "_view_module_version": "1.2.0",
            "_view_name": "StyleView",
            "description_width": ""
          }
        },
        "9a52525153744089810d63edbc338519": {
          "model_module": "@jupyter-widgets/controls",
          "model_name": "HBoxModel",
          "model_module_version": "1.5.0",
          "state": {
            "_dom_classes": [],
            "_model_module": "@jupyter-widgets/controls",
            "_model_module_version": "1.5.0",
            "_model_name": "HBoxModel",
            "_view_count": null,
            "_view_module": "@jupyter-widgets/controls",
            "_view_module_version": "1.5.0",
            "_view_name": "HBoxView",
            "box_style": "",
            "children": [
              "IPY_MODEL_ec6d2a80709c41748579b65e890ada99",
              "IPY_MODEL_e7265fb8610a40c79cd549f8c54c1962",
              "IPY_MODEL_7fd38fed62b14e298a81dd5537e80542"
            ],
            "layout": "IPY_MODEL_0ddb48d554034d7ba56d3c4a988433fd"
          }
        },
        "ec6d2a80709c41748579b65e890ada99": {
          "model_module": "@jupyter-widgets/controls",
          "model_name": "HTMLModel",
          "model_module_version": "1.5.0",
          "state": {
            "_dom_classes": [],
            "_model_module": "@jupyter-widgets/controls",
            "_model_module_version": "1.5.0",
            "_model_name": "HTMLModel",
            "_view_count": null,
            "_view_module": "@jupyter-widgets/controls",
            "_view_module_version": "1.5.0",
            "_view_name": "HTMLView",
            "description": "",
            "description_tooltip": null,
            "layout": "IPY_MODEL_ebccfe5a51d54b20a0822b85e398ccfb",
            "placeholder": "​",
            "style": "IPY_MODEL_326b31f599724d6689d262ce05468635",
            "value": "model.safetensors: 100%"
          }
        },
        "e7265fb8610a40c79cd549f8c54c1962": {
          "model_module": "@jupyter-widgets/controls",
          "model_name": "FloatProgressModel",
          "model_module_version": "1.5.0",
          "state": {
            "_dom_classes": [],
            "_model_module": "@jupyter-widgets/controls",
            "_model_module_version": "1.5.0",
            "_model_name": "FloatProgressModel",
            "_view_count": null,
            "_view_module": "@jupyter-widgets/controls",
            "_view_module_version": "1.5.0",
            "_view_name": "ProgressView",
            "bar_style": "success",
            "description": "",
            "description_tooltip": null,
            "layout": "IPY_MODEL_7fae6449e639457e89c2cd826e214d42",
            "max": 267832558,
            "min": 0,
            "orientation": "horizontal",
            "style": "IPY_MODEL_9927558172524e5e87c236202662de89",
            "value": 267832558
          }
        },
        "7fd38fed62b14e298a81dd5537e80542": {
          "model_module": "@jupyter-widgets/controls",
          "model_name": "HTMLModel",
          "model_module_version": "1.5.0",
          "state": {
            "_dom_classes": [],
            "_model_module": "@jupyter-widgets/controls",
            "_model_module_version": "1.5.0",
            "_model_name": "HTMLModel",
            "_view_count": null,
            "_view_module": "@jupyter-widgets/controls",
            "_view_module_version": "1.5.0",
            "_view_name": "HTMLView",
            "description": "",
            "description_tooltip": null,
            "layout": "IPY_MODEL_a8df230a9a164abf9d9ee44434a4d77e",
            "placeholder": "​",
            "style": "IPY_MODEL_554337e0679e4f458507ab62040d5764",
            "value": " 268M/268M [00:01&lt;00:00, 117MB/s]"
          }
        },
        "0ddb48d554034d7ba56d3c4a988433fd": {
          "model_module": "@jupyter-widgets/base",
          "model_name": "LayoutModel",
          "model_module_version": "1.2.0",
          "state": {
            "_model_module": "@jupyter-widgets/base",
            "_model_module_version": "1.2.0",
            "_model_name": "LayoutModel",
            "_view_count": null,
            "_view_module": "@jupyter-widgets/base",
            "_view_module_version": "1.2.0",
            "_view_name": "LayoutView",
            "align_content": null,
            "align_items": null,
            "align_self": null,
            "border": null,
            "bottom": null,
            "display": null,
            "flex": null,
            "flex_flow": null,
            "grid_area": null,
            "grid_auto_columns": null,
            "grid_auto_flow": null,
            "grid_auto_rows": null,
            "grid_column": null,
            "grid_gap": null,
            "grid_row": null,
            "grid_template_areas": null,
            "grid_template_columns": null,
            "grid_template_rows": null,
            "height": null,
            "justify_content": null,
            "justify_items": null,
            "left": null,
            "margin": null,
            "max_height": null,
            "max_width": null,
            "min_height": null,
            "min_width": null,
            "object_fit": null,
            "object_position": null,
            "order": null,
            "overflow": null,
            "overflow_x": null,
            "overflow_y": null,
            "padding": null,
            "right": null,
            "top": null,
            "visibility": null,
            "width": null
          }
        },
        "ebccfe5a51d54b20a0822b85e398ccfb": {
          "model_module": "@jupyter-widgets/base",
          "model_name": "LayoutModel",
          "model_module_version": "1.2.0",
          "state": {
            "_model_module": "@jupyter-widgets/base",
            "_model_module_version": "1.2.0",
            "_model_name": "LayoutModel",
            "_view_count": null,
            "_view_module": "@jupyter-widgets/base",
            "_view_module_version": "1.2.0",
            "_view_name": "LayoutView",
            "align_content": null,
            "align_items": null,
            "align_self": null,
            "border": null,
            "bottom": null,
            "display": null,
            "flex": null,
            "flex_flow": null,
            "grid_area": null,
            "grid_auto_columns": null,
            "grid_auto_flow": null,
            "grid_auto_rows": null,
            "grid_column": null,
            "grid_gap": null,
            "grid_row": null,
            "grid_template_areas": null,
            "grid_template_columns": null,
            "grid_template_rows": null,
            "height": null,
            "justify_content": null,
            "justify_items": null,
            "left": null,
            "margin": null,
            "max_height": null,
            "max_width": null,
            "min_height": null,
            "min_width": null,
            "object_fit": null,
            "object_position": null,
            "order": null,
            "overflow": null,
            "overflow_x": null,
            "overflow_y": null,
            "padding": null,
            "right": null,
            "top": null,
            "visibility": null,
            "width": null
          }
        },
        "326b31f599724d6689d262ce05468635": {
          "model_module": "@jupyter-widgets/controls",
          "model_name": "DescriptionStyleModel",
          "model_module_version": "1.5.0",
          "state": {
            "_model_module": "@jupyter-widgets/controls",
            "_model_module_version": "1.5.0",
            "_model_name": "DescriptionStyleModel",
            "_view_count": null,
            "_view_module": "@jupyter-widgets/base",
            "_view_module_version": "1.2.0",
            "_view_name": "StyleView",
            "description_width": ""
          }
        },
        "7fae6449e639457e89c2cd826e214d42": {
          "model_module": "@jupyter-widgets/base",
          "model_name": "LayoutModel",
          "model_module_version": "1.2.0",
          "state": {
            "_model_module": "@jupyter-widgets/base",
            "_model_module_version": "1.2.0",
            "_model_name": "LayoutModel",
            "_view_count": null,
            "_view_module": "@jupyter-widgets/base",
            "_view_module_version": "1.2.0",
            "_view_name": "LayoutView",
            "align_content": null,
            "align_items": null,
            "align_self": null,
            "border": null,
            "bottom": null,
            "display": null,
            "flex": null,
            "flex_flow": null,
            "grid_area": null,
            "grid_auto_columns": null,
            "grid_auto_flow": null,
            "grid_auto_rows": null,
            "grid_column": null,
            "grid_gap": null,
            "grid_row": null,
            "grid_template_areas": null,
            "grid_template_columns": null,
            "grid_template_rows": null,
            "height": null,
            "justify_content": null,
            "justify_items": null,
            "left": null,
            "margin": null,
            "max_height": null,
            "max_width": null,
            "min_height": null,
            "min_width": null,
            "object_fit": null,
            "object_position": null,
            "order": null,
            "overflow": null,
            "overflow_x": null,
            "overflow_y": null,
            "padding": null,
            "right": null,
            "top": null,
            "visibility": null,
            "width": null
          }
        },
        "9927558172524e5e87c236202662de89": {
          "model_module": "@jupyter-widgets/controls",
          "model_name": "ProgressStyleModel",
          "model_module_version": "1.5.0",
          "state": {
            "_model_module": "@jupyter-widgets/controls",
            "_model_module_version": "1.5.0",
            "_model_name": "ProgressStyleModel",
            "_view_count": null,
            "_view_module": "@jupyter-widgets/base",
            "_view_module_version": "1.2.0",
            "_view_name": "StyleView",
            "bar_color": null,
            "description_width": ""
          }
        },
        "a8df230a9a164abf9d9ee44434a4d77e": {
          "model_module": "@jupyter-widgets/base",
          "model_name": "LayoutModel",
          "model_module_version": "1.2.0",
          "state": {
            "_model_module": "@jupyter-widgets/base",
            "_model_module_version": "1.2.0",
            "_model_name": "LayoutModel",
            "_view_count": null,
            "_view_module": "@jupyter-widgets/base",
            "_view_module_version": "1.2.0",
            "_view_name": "LayoutView",
            "align_content": null,
            "align_items": null,
            "align_self": null,
            "border": null,
            "bottom": null,
            "display": null,
            "flex": null,
            "flex_flow": null,
            "grid_area": null,
            "grid_auto_columns": null,
            "grid_auto_flow": null,
            "grid_auto_rows": null,
            "grid_column": null,
            "grid_gap": null,
            "grid_row": null,
            "grid_template_areas": null,
            "grid_template_columns": null,
            "grid_template_rows": null,
            "height": null,
            "justify_content": null,
            "justify_items": null,
            "left": null,
            "margin": null,
            "max_height": null,
            "max_width": null,
            "min_height": null,
            "min_width": null,
            "object_fit": null,
            "object_position": null,
            "order": null,
            "overflow": null,
            "overflow_x": null,
            "overflow_y": null,
            "padding": null,
            "right": null,
            "top": null,
            "visibility": null,
            "width": null
          }
        },
        "554337e0679e4f458507ab62040d5764": {
          "model_module": "@jupyter-widgets/controls",
          "model_name": "DescriptionStyleModel",
          "model_module_version": "1.5.0",
          "state": {
            "_model_module": "@jupyter-widgets/controls",
            "_model_module_version": "1.5.0",
            "_model_name": "DescriptionStyleModel",
            "_view_count": null,
            "_view_module": "@jupyter-widgets/base",
            "_view_module_version": "1.2.0",
            "_view_name": "StyleView",
            "description_width": ""
          }
        },
        "429381b0b6804ed9bb3730c6595b9bf4": {
          "model_module": "@jupyter-widgets/controls",
          "model_name": "HBoxModel",
          "model_module_version": "1.5.0",
          "state": {
            "_dom_classes": [],
            "_model_module": "@jupyter-widgets/controls",
            "_model_module_version": "1.5.0",
            "_model_name": "HBoxModel",
            "_view_count": null,
            "_view_module": "@jupyter-widgets/controls",
            "_view_module_version": "1.5.0",
            "_view_name": "HBoxView",
            "box_style": "",
            "children": [
              "IPY_MODEL_ba6915c6743c48b2884e1ccb987326e0",
              "IPY_MODEL_a7453d2e0cce40b6bf3fb40e5e027ac6",
              "IPY_MODEL_5127c890b5094ad1830c2a49421f9370"
            ],
            "layout": "IPY_MODEL_08cdb2dfaab248839b1b58a72771c05e"
          }
        },
        "ba6915c6743c48b2884e1ccb987326e0": {
          "model_module": "@jupyter-widgets/controls",
          "model_name": "HTMLModel",
          "model_module_version": "1.5.0",
          "state": {
            "_dom_classes": [],
            "_model_module": "@jupyter-widgets/controls",
            "_model_module_version": "1.5.0",
            "_model_name": "HTMLModel",
            "_view_count": null,
            "_view_module": "@jupyter-widgets/controls",
            "_view_module_version": "1.5.0",
            "_view_name": "HTMLView",
            "description": "",
            "description_tooltip": null,
            "layout": "IPY_MODEL_9e94c3393ee446899acc430203f5c016",
            "placeholder": "​",
            "style": "IPY_MODEL_a1966c1d3fb0491aaf437e2b2958cdc1",
            "value": "tokenizer_config.json: 100%"
          }
        },
        "a7453d2e0cce40b6bf3fb40e5e027ac6": {
          "model_module": "@jupyter-widgets/controls",
          "model_name": "FloatProgressModel",
          "model_module_version": "1.5.0",
          "state": {
            "_dom_classes": [],
            "_model_module": "@jupyter-widgets/controls",
            "_model_module_version": "1.5.0",
            "_model_name": "FloatProgressModel",
            "_view_count": null,
            "_view_module": "@jupyter-widgets/controls",
            "_view_module_version": "1.5.0",
            "_view_name": "ProgressView",
            "bar_style": "success",
            "description": "",
            "description_tooltip": null,
            "layout": "IPY_MODEL_35f2ad2402c74e5a8cfaab4bc4e30daa",
            "max": 48,
            "min": 0,
            "orientation": "horizontal",
            "style": "IPY_MODEL_0267cb7294914fc8bc2f90edba806b12",
            "value": 48
          }
        },
        "5127c890b5094ad1830c2a49421f9370": {
          "model_module": "@jupyter-widgets/controls",
          "model_name": "HTMLModel",
          "model_module_version": "1.5.0",
          "state": {
            "_dom_classes": [],
            "_model_module": "@jupyter-widgets/controls",
            "_model_module_version": "1.5.0",
            "_model_name": "HTMLModel",
            "_view_count": null,
            "_view_module": "@jupyter-widgets/controls",
            "_view_module_version": "1.5.0",
            "_view_name": "HTMLView",
            "description": "",
            "description_tooltip": null,
            "layout": "IPY_MODEL_4d55d5891cf84280b6cd7c96ce226399",
            "placeholder": "​",
            "style": "IPY_MODEL_d4d159e35578427a92840d37e24d3ece",
            "value": " 48.0/48.0 [00:00&lt;00:00, 3.64kB/s]"
          }
        },
        "08cdb2dfaab248839b1b58a72771c05e": {
          "model_module": "@jupyter-widgets/base",
          "model_name": "LayoutModel",
          "model_module_version": "1.2.0",
          "state": {
            "_model_module": "@jupyter-widgets/base",
            "_model_module_version": "1.2.0",
            "_model_name": "LayoutModel",
            "_view_count": null,
            "_view_module": "@jupyter-widgets/base",
            "_view_module_version": "1.2.0",
            "_view_name": "LayoutView",
            "align_content": null,
            "align_items": null,
            "align_self": null,
            "border": null,
            "bottom": null,
            "display": null,
            "flex": null,
            "flex_flow": null,
            "grid_area": null,
            "grid_auto_columns": null,
            "grid_auto_flow": null,
            "grid_auto_rows": null,
            "grid_column": null,
            "grid_gap": null,
            "grid_row": null,
            "grid_template_areas": null,
            "grid_template_columns": null,
            "grid_template_rows": null,
            "height": null,
            "justify_content": null,
            "justify_items": null,
            "left": null,
            "margin": null,
            "max_height": null,
            "max_width": null,
            "min_height": null,
            "min_width": null,
            "object_fit": null,
            "object_position": null,
            "order": null,
            "overflow": null,
            "overflow_x": null,
            "overflow_y": null,
            "padding": null,
            "right": null,
            "top": null,
            "visibility": null,
            "width": null
          }
        },
        "9e94c3393ee446899acc430203f5c016": {
          "model_module": "@jupyter-widgets/base",
          "model_name": "LayoutModel",
          "model_module_version": "1.2.0",
          "state": {
            "_model_module": "@jupyter-widgets/base",
            "_model_module_version": "1.2.0",
            "_model_name": "LayoutModel",
            "_view_count": null,
            "_view_module": "@jupyter-widgets/base",
            "_view_module_version": "1.2.0",
            "_view_name": "LayoutView",
            "align_content": null,
            "align_items": null,
            "align_self": null,
            "border": null,
            "bottom": null,
            "display": null,
            "flex": null,
            "flex_flow": null,
            "grid_area": null,
            "grid_auto_columns": null,
            "grid_auto_flow": null,
            "grid_auto_rows": null,
            "grid_column": null,
            "grid_gap": null,
            "grid_row": null,
            "grid_template_areas": null,
            "grid_template_columns": null,
            "grid_template_rows": null,
            "height": null,
            "justify_content": null,
            "justify_items": null,
            "left": null,
            "margin": null,
            "max_height": null,
            "max_width": null,
            "min_height": null,
            "min_width": null,
            "object_fit": null,
            "object_position": null,
            "order": null,
            "overflow": null,
            "overflow_x": null,
            "overflow_y": null,
            "padding": null,
            "right": null,
            "top": null,
            "visibility": null,
            "width": null
          }
        },
        "a1966c1d3fb0491aaf437e2b2958cdc1": {
          "model_module": "@jupyter-widgets/controls",
          "model_name": "DescriptionStyleModel",
          "model_module_version": "1.5.0",
          "state": {
            "_model_module": "@jupyter-widgets/controls",
            "_model_module_version": "1.5.0",
            "_model_name": "DescriptionStyleModel",
            "_view_count": null,
            "_view_module": "@jupyter-widgets/base",
            "_view_module_version": "1.2.0",
            "_view_name": "StyleView",
            "description_width": ""
          }
        },
        "35f2ad2402c74e5a8cfaab4bc4e30daa": {
          "model_module": "@jupyter-widgets/base",
          "model_name": "LayoutModel",
          "model_module_version": "1.2.0",
          "state": {
            "_model_module": "@jupyter-widgets/base",
            "_model_module_version": "1.2.0",
            "_model_name": "LayoutModel",
            "_view_count": null,
            "_view_module": "@jupyter-widgets/base",
            "_view_module_version": "1.2.0",
            "_view_name": "LayoutView",
            "align_content": null,
            "align_items": null,
            "align_self": null,
            "border": null,
            "bottom": null,
            "display": null,
            "flex": null,
            "flex_flow": null,
            "grid_area": null,
            "grid_auto_columns": null,
            "grid_auto_flow": null,
            "grid_auto_rows": null,
            "grid_column": null,
            "grid_gap": null,
            "grid_row": null,
            "grid_template_areas": null,
            "grid_template_columns": null,
            "grid_template_rows": null,
            "height": null,
            "justify_content": null,
            "justify_items": null,
            "left": null,
            "margin": null,
            "max_height": null,
            "max_width": null,
            "min_height": null,
            "min_width": null,
            "object_fit": null,
            "object_position": null,
            "order": null,
            "overflow": null,
            "overflow_x": null,
            "overflow_y": null,
            "padding": null,
            "right": null,
            "top": null,
            "visibility": null,
            "width": null
          }
        },
        "0267cb7294914fc8bc2f90edba806b12": {
          "model_module": "@jupyter-widgets/controls",
          "model_name": "ProgressStyleModel",
          "model_module_version": "1.5.0",
          "state": {
            "_model_module": "@jupyter-widgets/controls",
            "_model_module_version": "1.5.0",
            "_model_name": "ProgressStyleModel",
            "_view_count": null,
            "_view_module": "@jupyter-widgets/base",
            "_view_module_version": "1.2.0",
            "_view_name": "StyleView",
            "bar_color": null,
            "description_width": ""
          }
        },
        "4d55d5891cf84280b6cd7c96ce226399": {
          "model_module": "@jupyter-widgets/base",
          "model_name": "LayoutModel",
          "model_module_version": "1.2.0",
          "state": {
            "_model_module": "@jupyter-widgets/base",
            "_model_module_version": "1.2.0",
            "_model_name": "LayoutModel",
            "_view_count": null,
            "_view_module": "@jupyter-widgets/base",
            "_view_module_version": "1.2.0",
            "_view_name": "LayoutView",
            "align_content": null,
            "align_items": null,
            "align_self": null,
            "border": null,
            "bottom": null,
            "display": null,
            "flex": null,
            "flex_flow": null,
            "grid_area": null,
            "grid_auto_columns": null,
            "grid_auto_flow": null,
            "grid_auto_rows": null,
            "grid_column": null,
            "grid_gap": null,
            "grid_row": null,
            "grid_template_areas": null,
            "grid_template_columns": null,
            "grid_template_rows": null,
            "height": null,
            "justify_content": null,
            "justify_items": null,
            "left": null,
            "margin": null,
            "max_height": null,
            "max_width": null,
            "min_height": null,
            "min_width": null,
            "object_fit": null,
            "object_position": null,
            "order": null,
            "overflow": null,
            "overflow_x": null,
            "overflow_y": null,
            "padding": null,
            "right": null,
            "top": null,
            "visibility": null,
            "width": null
          }
        },
        "d4d159e35578427a92840d37e24d3ece": {
          "model_module": "@jupyter-widgets/controls",
          "model_name": "DescriptionStyleModel",
          "model_module_version": "1.5.0",
          "state": {
            "_model_module": "@jupyter-widgets/controls",
            "_model_module_version": "1.5.0",
            "_model_name": "DescriptionStyleModel",
            "_view_count": null,
            "_view_module": "@jupyter-widgets/base",
            "_view_module_version": "1.2.0",
            "_view_name": "StyleView",
            "description_width": ""
          }
        },
        "7f0911a6e8dd4e95bd1d3c9370b1e6a4": {
          "model_module": "@jupyter-widgets/controls",
          "model_name": "HBoxModel",
          "model_module_version": "1.5.0",
          "state": {
            "_dom_classes": [],
            "_model_module": "@jupyter-widgets/controls",
            "_model_module_version": "1.5.0",
            "_model_name": "HBoxModel",
            "_view_count": null,
            "_view_module": "@jupyter-widgets/controls",
            "_view_module_version": "1.5.0",
            "_view_name": "HBoxView",
            "box_style": "",
            "children": [
              "IPY_MODEL_0b807ff7eace4b71bd20f250ead3868c",
              "IPY_MODEL_0606cd94ce324a91bf7744a2d62712f8",
              "IPY_MODEL_a70c25f634e148ad8e2d8f9adb43905c"
            ],
            "layout": "IPY_MODEL_afd9fdb81dd9484284be9dac1f2ff34d"
          }
        },
        "0b807ff7eace4b71bd20f250ead3868c": {
          "model_module": "@jupyter-widgets/controls",
          "model_name": "HTMLModel",
          "model_module_version": "1.5.0",
          "state": {
            "_dom_classes": [],
            "_model_module": "@jupyter-widgets/controls",
            "_model_module_version": "1.5.0",
            "_model_name": "HTMLModel",
            "_view_count": null,
            "_view_module": "@jupyter-widgets/controls",
            "_view_module_version": "1.5.0",
            "_view_name": "HTMLView",
            "description": "",
            "description_tooltip": null,
            "layout": "IPY_MODEL_82be3e6ea6164ffcb5431e3d669ec67e",
            "placeholder": "​",
            "style": "IPY_MODEL_a6c70a41950b4e9e958fbacd63deb444",
            "value": "vocab.txt: 100%"
          }
        },
        "0606cd94ce324a91bf7744a2d62712f8": {
          "model_module": "@jupyter-widgets/controls",
          "model_name": "FloatProgressModel",
          "model_module_version": "1.5.0",
          "state": {
            "_dom_classes": [],
            "_model_module": "@jupyter-widgets/controls",
            "_model_module_version": "1.5.0",
            "_model_name": "FloatProgressModel",
            "_view_count": null,
            "_view_module": "@jupyter-widgets/controls",
            "_view_module_version": "1.5.0",
            "_view_name": "ProgressView",
            "bar_style": "success",
            "description": "",
            "description_tooltip": null,
            "layout": "IPY_MODEL_82fc82afeb3649e79da35bcc0bf015ef",
            "max": 231508,
            "min": 0,
            "orientation": "horizontal",
            "style": "IPY_MODEL_5d2969ae90b046a28ba88b135cea50c4",
            "value": 231508
          }
        },
        "a70c25f634e148ad8e2d8f9adb43905c": {
          "model_module": "@jupyter-widgets/controls",
          "model_name": "HTMLModel",
          "model_module_version": "1.5.0",
          "state": {
            "_dom_classes": [],
            "_model_module": "@jupyter-widgets/controls",
            "_model_module_version": "1.5.0",
            "_model_name": "HTMLModel",
            "_view_count": null,
            "_view_module": "@jupyter-widgets/controls",
            "_view_module_version": "1.5.0",
            "_view_name": "HTMLView",
            "description": "",
            "description_tooltip": null,
            "layout": "IPY_MODEL_282507fc365d4688807112e354942e2f",
            "placeholder": "​",
            "style": "IPY_MODEL_406e28ff08294b50bdbd51ba18537c5c",
            "value": " 232k/232k [00:00&lt;00:00, 14.0MB/s]"
          }
        },
        "afd9fdb81dd9484284be9dac1f2ff34d": {
          "model_module": "@jupyter-widgets/base",
          "model_name": "LayoutModel",
          "model_module_version": "1.2.0",
          "state": {
            "_model_module": "@jupyter-widgets/base",
            "_model_module_version": "1.2.0",
            "_model_name": "LayoutModel",
            "_view_count": null,
            "_view_module": "@jupyter-widgets/base",
            "_view_module_version": "1.2.0",
            "_view_name": "LayoutView",
            "align_content": null,
            "align_items": null,
            "align_self": null,
            "border": null,
            "bottom": null,
            "display": null,
            "flex": null,
            "flex_flow": null,
            "grid_area": null,
            "grid_auto_columns": null,
            "grid_auto_flow": null,
            "grid_auto_rows": null,
            "grid_column": null,
            "grid_gap": null,
            "grid_row": null,
            "grid_template_areas": null,
            "grid_template_columns": null,
            "grid_template_rows": null,
            "height": null,
            "justify_content": null,
            "justify_items": null,
            "left": null,
            "margin": null,
            "max_height": null,
            "max_width": null,
            "min_height": null,
            "min_width": null,
            "object_fit": null,
            "object_position": null,
            "order": null,
            "overflow": null,
            "overflow_x": null,
            "overflow_y": null,
            "padding": null,
            "right": null,
            "top": null,
            "visibility": null,
            "width": null
          }
        },
        "82be3e6ea6164ffcb5431e3d669ec67e": {
          "model_module": "@jupyter-widgets/base",
          "model_name": "LayoutModel",
          "model_module_version": "1.2.0",
          "state": {
            "_model_module": "@jupyter-widgets/base",
            "_model_module_version": "1.2.0",
            "_model_name": "LayoutModel",
            "_view_count": null,
            "_view_module": "@jupyter-widgets/base",
            "_view_module_version": "1.2.0",
            "_view_name": "LayoutView",
            "align_content": null,
            "align_items": null,
            "align_self": null,
            "border": null,
            "bottom": null,
            "display": null,
            "flex": null,
            "flex_flow": null,
            "grid_area": null,
            "grid_auto_columns": null,
            "grid_auto_flow": null,
            "grid_auto_rows": null,
            "grid_column": null,
            "grid_gap": null,
            "grid_row": null,
            "grid_template_areas": null,
            "grid_template_columns": null,
            "grid_template_rows": null,
            "height": null,
            "justify_content": null,
            "justify_items": null,
            "left": null,
            "margin": null,
            "max_height": null,
            "max_width": null,
            "min_height": null,
            "min_width": null,
            "object_fit": null,
            "object_position": null,
            "order": null,
            "overflow": null,
            "overflow_x": null,
            "overflow_y": null,
            "padding": null,
            "right": null,
            "top": null,
            "visibility": null,
            "width": null
          }
        },
        "a6c70a41950b4e9e958fbacd63deb444": {
          "model_module": "@jupyter-widgets/controls",
          "model_name": "DescriptionStyleModel",
          "model_module_version": "1.5.0",
          "state": {
            "_model_module": "@jupyter-widgets/controls",
            "_model_module_version": "1.5.0",
            "_model_name": "DescriptionStyleModel",
            "_view_count": null,
            "_view_module": "@jupyter-widgets/base",
            "_view_module_version": "1.2.0",
            "_view_name": "StyleView",
            "description_width": ""
          }
        },
        "82fc82afeb3649e79da35bcc0bf015ef": {
          "model_module": "@jupyter-widgets/base",
          "model_name": "LayoutModel",
          "model_module_version": "1.2.0",
          "state": {
            "_model_module": "@jupyter-widgets/base",
            "_model_module_version": "1.2.0",
            "_model_name": "LayoutModel",
            "_view_count": null,
            "_view_module": "@jupyter-widgets/base",
            "_view_module_version": "1.2.0",
            "_view_name": "LayoutView",
            "align_content": null,
            "align_items": null,
            "align_self": null,
            "border": null,
            "bottom": null,
            "display": null,
            "flex": null,
            "flex_flow": null,
            "grid_area": null,
            "grid_auto_columns": null,
            "grid_auto_flow": null,
            "grid_auto_rows": null,
            "grid_column": null,
            "grid_gap": null,
            "grid_row": null,
            "grid_template_areas": null,
            "grid_template_columns": null,
            "grid_template_rows": null,
            "height": null,
            "justify_content": null,
            "justify_items": null,
            "left": null,
            "margin": null,
            "max_height": null,
            "max_width": null,
            "min_height": null,
            "min_width": null,
            "object_fit": null,
            "object_position": null,
            "order": null,
            "overflow": null,
            "overflow_x": null,
            "overflow_y": null,
            "padding": null,
            "right": null,
            "top": null,
            "visibility": null,
            "width": null
          }
        },
        "5d2969ae90b046a28ba88b135cea50c4": {
          "model_module": "@jupyter-widgets/controls",
          "model_name": "ProgressStyleModel",
          "model_module_version": "1.5.0",
          "state": {
            "_model_module": "@jupyter-widgets/controls",
            "_model_module_version": "1.5.0",
            "_model_name": "ProgressStyleModel",
            "_view_count": null,
            "_view_module": "@jupyter-widgets/base",
            "_view_module_version": "1.2.0",
            "_view_name": "StyleView",
            "bar_color": null,
            "description_width": ""
          }
        },
        "282507fc365d4688807112e354942e2f": {
          "model_module": "@jupyter-widgets/base",
          "model_name": "LayoutModel",
          "model_module_version": "1.2.0",
          "state": {
            "_model_module": "@jupyter-widgets/base",
            "_model_module_version": "1.2.0",
            "_model_name": "LayoutModel",
            "_view_count": null,
            "_view_module": "@jupyter-widgets/base",
            "_view_module_version": "1.2.0",
            "_view_name": "LayoutView",
            "align_content": null,
            "align_items": null,
            "align_self": null,
            "border": null,
            "bottom": null,
            "display": null,
            "flex": null,
            "flex_flow": null,
            "grid_area": null,
            "grid_auto_columns": null,
            "grid_auto_flow": null,
            "grid_auto_rows": null,
            "grid_column": null,
            "grid_gap": null,
            "grid_row": null,
            "grid_template_areas": null,
            "grid_template_columns": null,
            "grid_template_rows": null,
            "height": null,
            "justify_content": null,
            "justify_items": null,
            "left": null,
            "margin": null,
            "max_height": null,
            "max_width": null,
            "min_height": null,
            "min_width": null,
            "object_fit": null,
            "object_position": null,
            "order": null,
            "overflow": null,
            "overflow_x": null,
            "overflow_y": null,
            "padding": null,
            "right": null,
            "top": null,
            "visibility": null,
            "width": null
          }
        },
        "406e28ff08294b50bdbd51ba18537c5c": {
          "model_module": "@jupyter-widgets/controls",
          "model_name": "DescriptionStyleModel",
          "model_module_version": "1.5.0",
          "state": {
            "_model_module": "@jupyter-widgets/controls",
            "_model_module_version": "1.5.0",
            "_model_name": "DescriptionStyleModel",
            "_view_count": null,
            "_view_module": "@jupyter-widgets/base",
            "_view_module_version": "1.2.0",
            "_view_name": "StyleView",
            "description_width": ""
          }
        }
      }
    }
  },
  "cells": [
    {
      "cell_type": "markdown",
      "metadata": {
        "id": "view-in-github",
        "colab_type": "text"
      },
      "source": [
        "<a href=\"https://colab.research.google.com/github/Charana04/Financial-Risk-Analysis-for-Investment-Portfolios/blob/main/Financial_Risk_Analysis_for_Investment_Portfolios.ipynb\" target=\"_parent\"><img src=\"https://colab.research.google.com/assets/colab-badge.svg\" alt=\"Open In Colab\"/></a>"
      ]
    },
    {
      "cell_type": "markdown",
      "source": [
        "Financial Risk Analysis for Investment Portfolios"
      ],
      "metadata": {
        "id": "QK3LZdxWGLGR"
      }
    },
    {
      "cell_type": "code",
      "execution_count": 1,
      "metadata": {
        "colab": {
          "base_uri": "https://localhost:8080/"
        },
        "id": "RHa5J2PjBABH",
        "outputId": "497194cb-6369-434a-a734-399b668ce6c2"
      },
      "outputs": [
        {
          "output_type": "stream",
          "name": "stdout",
          "text": [
            "Mounted at /content/drive\n"
          ]
        }
      ],
      "source": [
        "from google.colab import drive\n",
        "drive.mount('/content/drive')\n"
      ]
    },
    {
      "cell_type": "code",
      "source": [
        "!pip install yfinance\n"
      ],
      "metadata": {
        "colab": {
          "base_uri": "https://localhost:8080/"
        },
        "id": "4k0LqkLGBfEt",
        "outputId": "82d03033-5320-42b5-a007-dbe06b613382"
      },
      "execution_count": 2,
      "outputs": [
        {
          "output_type": "stream",
          "name": "stdout",
          "text": [
            "Requirement already satisfied: yfinance in /usr/local/lib/python3.11/dist-packages (0.2.52)\n",
            "Requirement already satisfied: pandas>=1.3.0 in /usr/local/lib/python3.11/dist-packages (from yfinance) (2.2.2)\n",
            "Requirement already satisfied: numpy>=1.16.5 in /usr/local/lib/python3.11/dist-packages (from yfinance) (1.26.4)\n",
            "Requirement already satisfied: requests>=2.31 in /usr/local/lib/python3.11/dist-packages (from yfinance) (2.32.3)\n",
            "Requirement already satisfied: multitasking>=0.0.7 in /usr/local/lib/python3.11/dist-packages (from yfinance) (0.0.11)\n",
            "Requirement already satisfied: lxml>=4.9.1 in /usr/local/lib/python3.11/dist-packages (from yfinance) (5.3.1)\n",
            "Requirement already satisfied: platformdirs>=2.0.0 in /usr/local/lib/python3.11/dist-packages (from yfinance) (4.3.6)\n",
            "Requirement already satisfied: pytz>=2022.5 in /usr/local/lib/python3.11/dist-packages (from yfinance) (2025.1)\n",
            "Requirement already satisfied: frozendict>=2.3.4 in /usr/local/lib/python3.11/dist-packages (from yfinance) (2.4.6)\n",
            "Requirement already satisfied: peewee>=3.16.2 in /usr/local/lib/python3.11/dist-packages (from yfinance) (3.17.9)\n",
            "Requirement already satisfied: beautifulsoup4>=4.11.1 in /usr/local/lib/python3.11/dist-packages (from yfinance) (4.13.3)\n",
            "Requirement already satisfied: html5lib>=1.1 in /usr/local/lib/python3.11/dist-packages (from yfinance) (1.1)\n",
            "Requirement already satisfied: soupsieve>1.2 in /usr/local/lib/python3.11/dist-packages (from beautifulsoup4>=4.11.1->yfinance) (2.6)\n",
            "Requirement already satisfied: typing-extensions>=4.0.0 in /usr/local/lib/python3.11/dist-packages (from beautifulsoup4>=4.11.1->yfinance) (4.12.2)\n",
            "Requirement already satisfied: six>=1.9 in /usr/local/lib/python3.11/dist-packages (from html5lib>=1.1->yfinance) (1.17.0)\n",
            "Requirement already satisfied: webencodings in /usr/local/lib/python3.11/dist-packages (from html5lib>=1.1->yfinance) (0.5.1)\n",
            "Requirement already satisfied: python-dateutil>=2.8.2 in /usr/local/lib/python3.11/dist-packages (from pandas>=1.3.0->yfinance) (2.8.2)\n",
            "Requirement already satisfied: tzdata>=2022.7 in /usr/local/lib/python3.11/dist-packages (from pandas>=1.3.0->yfinance) (2025.1)\n",
            "Requirement already satisfied: charset-normalizer<4,>=2 in /usr/local/lib/python3.11/dist-packages (from requests>=2.31->yfinance) (3.4.1)\n",
            "Requirement already satisfied: idna<4,>=2.5 in /usr/local/lib/python3.11/dist-packages (from requests>=2.31->yfinance) (3.10)\n",
            "Requirement already satisfied: urllib3<3,>=1.21.1 in /usr/local/lib/python3.11/dist-packages (from requests>=2.31->yfinance) (2.3.0)\n",
            "Requirement already satisfied: certifi>=2017.4.17 in /usr/local/lib/python3.11/dist-packages (from requests>=2.31->yfinance) (2025.1.31)\n"
          ]
        }
      ]
    },
    {
      "cell_type": "code",
      "source": [
        "!pip install yfinance  # Install yfinance if not already installed\n",
        "\n",
        "import yfinance as yf\n",
        "import pandas as pd\n",
        "import numpy as np\n",
        "import matplotlib.pyplot as plt\n"
      ],
      "metadata": {
        "colab": {
          "base_uri": "https://localhost:8080/"
        },
        "id": "j3DqGC03CFZy",
        "outputId": "ab10837e-6c68-45d4-957f-09470b81a1e3"
      },
      "execution_count": 4,
      "outputs": [
        {
          "output_type": "stream",
          "name": "stdout",
          "text": [
            "Requirement already satisfied: yfinance in /usr/local/lib/python3.11/dist-packages (0.2.52)\n",
            "Requirement already satisfied: pandas>=1.3.0 in /usr/local/lib/python3.11/dist-packages (from yfinance) (2.2.2)\n",
            "Requirement already satisfied: numpy>=1.16.5 in /usr/local/lib/python3.11/dist-packages (from yfinance) (1.26.4)\n",
            "Requirement already satisfied: requests>=2.31 in /usr/local/lib/python3.11/dist-packages (from yfinance) (2.32.3)\n",
            "Requirement already satisfied: multitasking>=0.0.7 in /usr/local/lib/python3.11/dist-packages (from yfinance) (0.0.11)\n",
            "Requirement already satisfied: lxml>=4.9.1 in /usr/local/lib/python3.11/dist-packages (from yfinance) (5.3.1)\n",
            "Requirement already satisfied: platformdirs>=2.0.0 in /usr/local/lib/python3.11/dist-packages (from yfinance) (4.3.6)\n",
            "Requirement already satisfied: pytz>=2022.5 in /usr/local/lib/python3.11/dist-packages (from yfinance) (2025.1)\n",
            "Requirement already satisfied: frozendict>=2.3.4 in /usr/local/lib/python3.11/dist-packages (from yfinance) (2.4.6)\n",
            "Requirement already satisfied: peewee>=3.16.2 in /usr/local/lib/python3.11/dist-packages (from yfinance) (3.17.9)\n",
            "Requirement already satisfied: beautifulsoup4>=4.11.1 in /usr/local/lib/python3.11/dist-packages (from yfinance) (4.13.3)\n",
            "Requirement already satisfied: html5lib>=1.1 in /usr/local/lib/python3.11/dist-packages (from yfinance) (1.1)\n",
            "Requirement already satisfied: soupsieve>1.2 in /usr/local/lib/python3.11/dist-packages (from beautifulsoup4>=4.11.1->yfinance) (2.6)\n",
            "Requirement already satisfied: typing-extensions>=4.0.0 in /usr/local/lib/python3.11/dist-packages (from beautifulsoup4>=4.11.1->yfinance) (4.12.2)\n",
            "Requirement already satisfied: six>=1.9 in /usr/local/lib/python3.11/dist-packages (from html5lib>=1.1->yfinance) (1.17.0)\n",
            "Requirement already satisfied: webencodings in /usr/local/lib/python3.11/dist-packages (from html5lib>=1.1->yfinance) (0.5.1)\n",
            "Requirement already satisfied: python-dateutil>=2.8.2 in /usr/local/lib/python3.11/dist-packages (from pandas>=1.3.0->yfinance) (2.8.2)\n",
            "Requirement already satisfied: tzdata>=2022.7 in /usr/local/lib/python3.11/dist-packages (from pandas>=1.3.0->yfinance) (2025.1)\n",
            "Requirement already satisfied: charset-normalizer<4,>=2 in /usr/local/lib/python3.11/dist-packages (from requests>=2.31->yfinance) (3.4.1)\n",
            "Requirement already satisfied: idna<4,>=2.5 in /usr/local/lib/python3.11/dist-packages (from requests>=2.31->yfinance) (3.10)\n",
            "Requirement already satisfied: urllib3<3,>=1.21.1 in /usr/local/lib/python3.11/dist-packages (from requests>=2.31->yfinance) (2.3.0)\n",
            "Requirement already satisfied: certifi>=2017.4.17 in /usr/local/lib/python3.11/dist-packages (from requests>=2.31->yfinance) (2025.1.31)\n"
          ]
        }
      ]
    },
    {
      "cell_type": "markdown",
      "source": [
        "Fetch Stock Fundamentals:\n"
      ],
      "metadata": {
        "id": "cLlEmrFoKNFd"
      }
    },
    {
      "cell_type": "code",
      "source": [
        "ticker = \"AAPL\"  # Change to any stock symbol\n",
        "stock = yf.Ticker(ticker)\n",
        "\n",
        "# Extract fundamental metrics\n",
        "pe_ratio = stock.info.get('trailingPE', None)  # P/E Ratio\n",
        "market_cap = stock.info.get('marketCap', None)  # Market Cap\n",
        "sector = stock.info.get('sector', None)  # Industry sector\n",
        "\n",
        "print(f\"Stock: {ticker}, P/E Ratio: {pe_ratio}, Market Cap: {market_cap}, Sector: {sector}\")\n"
      ],
      "metadata": {
        "colab": {
          "base_uri": "https://localhost:8080/"
        },
        "id": "J_WZTHCZKCOo",
        "outputId": "479dca75-9c06-4222-fea2-34216034ef52"
      },
      "execution_count": 25,
      "outputs": [
        {
          "output_type": "stream",
          "name": "stdout",
          "text": [
            "Stock: AAPL, P/E Ratio: 38.763866, Market Cap: 3674405863424, Sector: Technology\n"
          ]
        }
      ]
    },
    {
      "cell_type": "code",
      "source": [
        "# Define stock ticker symbol (e.g., AAPL for Apple)\n",
        "ticker = \"AAPL\"\n",
        "\n",
        "# Fetch historical data (1 year)\n",
        "stock_data = yf.download(ticker, start=\"2023-01-01\", end=\"2024-01-01\")\n",
        "\n",
        "# Display the first few rows\n",
        "print(stock_data.head())\n"
      ],
      "metadata": {
        "colab": {
          "base_uri": "https://localhost:8080/"
        },
        "id": "M6gTl_TACK4Q",
        "outputId": "836e789a-4673-4ca7-bb63-ad44e9439e9a"
      },
      "execution_count": 6,
      "outputs": [
        {
          "output_type": "stream",
          "name": "stderr",
          "text": [
            "\r[*********************100%***********************]  1 of 1 completed"
          ]
        },
        {
          "output_type": "stream",
          "name": "stdout",
          "text": [
            "Price            Close        High         Low        Open     Volume\n",
            "Ticker            AAPL        AAPL        AAPL        AAPL       AAPL\n",
            "Date                                                                 \n",
            "2023-01-03  123.632530  129.395518  122.742873  128.782649  112117500\n",
            "2023-01-04  124.907707  127.181276  123.642420  125.431615   89113600\n",
            "2023-01-05  123.583107  126.301500  123.326101  125.668857   80962700\n",
            "2023-01-06  128.130219  128.792516  123.454587  124.561717   87754700\n",
            "2023-01-09  128.654144  131.876686  128.397138  128.970474   70790800\n"
          ]
        },
        {
          "output_type": "stream",
          "name": "stderr",
          "text": [
            "\n"
          ]
        }
      ]
    },
    {
      "cell_type": "markdown",
      "source": [
        "Sentiment Analysis on Financial News"
      ],
      "metadata": {
        "id": "AI12wzz0KXzQ"
      }
    },
    {
      "cell_type": "code",
      "source": [
        "!pip install transformers requests\n",
        "from transformers import pipeline\n",
        "import requests\n"
      ],
      "metadata": {
        "colab": {
          "base_uri": "https://localhost:8080/"
        },
        "id": "L6d_UxYoKWJI",
        "outputId": "0a580402-7812-4ed6-cdae-54c85ca01e8b"
      },
      "execution_count": 26,
      "outputs": [
        {
          "output_type": "stream",
          "name": "stdout",
          "text": [
            "Requirement already satisfied: transformers in /usr/local/lib/python3.11/dist-packages (4.48.3)\n",
            "Requirement already satisfied: requests in /usr/local/lib/python3.11/dist-packages (2.32.3)\n",
            "Requirement already satisfied: filelock in /usr/local/lib/python3.11/dist-packages (from transformers) (3.17.0)\n",
            "Requirement already satisfied: huggingface-hub<1.0,>=0.24.0 in /usr/local/lib/python3.11/dist-packages (from transformers) (0.28.1)\n",
            "Requirement already satisfied: numpy>=1.17 in /usr/local/lib/python3.11/dist-packages (from transformers) (1.26.4)\n",
            "Requirement already satisfied: packaging>=20.0 in /usr/local/lib/python3.11/dist-packages (from transformers) (24.2)\n",
            "Requirement already satisfied: pyyaml>=5.1 in /usr/local/lib/python3.11/dist-packages (from transformers) (6.0.2)\n",
            "Requirement already satisfied: regex!=2019.12.17 in /usr/local/lib/python3.11/dist-packages (from transformers) (2024.11.6)\n",
            "Requirement already satisfied: tokenizers<0.22,>=0.21 in /usr/local/lib/python3.11/dist-packages (from transformers) (0.21.0)\n",
            "Requirement already satisfied: safetensors>=0.4.1 in /usr/local/lib/python3.11/dist-packages (from transformers) (0.5.2)\n",
            "Requirement already satisfied: tqdm>=4.27 in /usr/local/lib/python3.11/dist-packages (from transformers) (4.67.1)\n",
            "Requirement already satisfied: charset-normalizer<4,>=2 in /usr/local/lib/python3.11/dist-packages (from requests) (3.4.1)\n",
            "Requirement already satisfied: idna<4,>=2.5 in /usr/local/lib/python3.11/dist-packages (from requests) (3.10)\n",
            "Requirement already satisfied: urllib3<3,>=1.21.1 in /usr/local/lib/python3.11/dist-packages (from requests) (2.3.0)\n",
            "Requirement already satisfied: certifi>=2017.4.17 in /usr/local/lib/python3.11/dist-packages (from requests) (2025.1.31)\n",
            "Requirement already satisfied: fsspec>=2023.5.0 in /usr/local/lib/python3.11/dist-packages (from huggingface-hub<1.0,>=0.24.0->transformers) (2024.10.0)\n",
            "Requirement already satisfied: typing-extensions>=3.7.4.3 in /usr/local/lib/python3.11/dist-packages (from huggingface-hub<1.0,>=0.24.0->transformers) (4.12.2)\n"
          ]
        }
      ]
    },
    {
      "cell_type": "code",
      "source": [
        "import requests\n",
        "import json\n",
        "\n",
        "# API Endpoint for Financial News (Example: NewsAPI)\n",
        "url = \"https://newsapi.org/v2/everything?q=stock market&apiKey=fc85183bd49645089e2eadf72e054105\"\n",
        "\n",
        "try:\n",
        "    response = requests.get(url)\n",
        "\n",
        "    # Check if the request was successful (HTTP 200 OK)\n",
        "    if response.status_code == 200:\n",
        "        data = response.json()  # Convert response to JSON\n",
        "\n",
        "        # Ensure data is not empty\n",
        "        if data and \"articles\" in data:\n",
        "            articles = data[\"articles\"]\n",
        "            print(f\"Fetched {len(articles)} articles.\")\n",
        "        else:\n",
        "            print(\"No articles found.\")\n",
        "            articles = []\n",
        "\n",
        "    else:\n",
        "        print(f\"Error: API returned status code {response.status_code}\")\n",
        "        articles = []\n",
        "\n",
        "except json.JSONDecodeError as e:\n",
        "    print(\"Error decoding JSON response:\", e)\n",
        "    articles = []\n",
        "\n",
        "except requests.exceptions.RequestException as e:\n",
        "    print(\"Request failed:\", e)\n",
        "    articles = []\n"
      ],
      "metadata": {
        "colab": {
          "base_uri": "https://localhost:8080/"
        },
        "id": "92EYRJGYKie5",
        "outputId": "b3e42afe-f509-4a9f-869d-7f333f81a493"
      },
      "execution_count": 29,
      "outputs": [
        {
          "output_type": "stream",
          "name": "stdout",
          "text": [
            "Fetched 99 articles.\n"
          ]
        }
      ]
    },
    {
      "cell_type": "markdown",
      "source": [
        "Improved Financial Sentiment Analysis:\n"
      ],
      "metadata": {
        "id": "z1lj_RrZXX6Q"
      }
    },
    {
      "cell_type": "code",
      "source": [
        "!pip install transformers requests\n",
        "\n",
        "from transformers import pipeline\n",
        "import requests\n",
        "import json\n",
        "\n",
        "# API Endpoint for Financial News (Example: NewsAPI)\n",
        "API_KEY = \"fc85183bd49645089e2eadf72e054105\"  # Replace with your valid API Key\n",
        "query = \"stock market\"\n",
        "url = f\"https://newsapi.org/v2/everything?q={query}&apiKey={API_KEY}\"\n",
        "\n",
        "try:\n",
        "    response = requests.get(url)\n",
        "\n",
        "    # Check if the request was successful (HTTP 200 OK)\n",
        "    if response.status_code == 200:\n",
        "        data = response.json()  # Convert response to JSON\n",
        "\n",
        "        # Ensure data is not empty and contains 'articles'\n",
        "        if data and \"articles\" in data and data[\"articles\"]:\n",
        "            articles = data[\"articles\"][:5]  # Fetch only the first 5 articles\n",
        "            print(f\"Fetched {len(articles)} articles.\")\n",
        "\n",
        "            # Extract headlines\n",
        "            headlines = [article[\"title\"] for article in articles]\n",
        "            print(\"\\nLatest News Headlines:\")\n",
        "            for h in headlines:\n",
        "                print(\"-\", h)\n",
        "\n",
        "            # Perform Sentiment Analysis\n",
        "            sentiment_pipeline = pipeline(\"sentiment-analysis\")\n",
        "            sentiment_scores = sentiment_pipeline(headlines)\n",
        "\n",
        "            # Display Sentiment Results\n",
        "            print(\"\\nSentiment Analysis Results:\")\n",
        "            for headline, score in zip(headlines, sentiment_scores):\n",
        "                print(f\"{headline} --> Sentiment: {score['label']} (Score: {score['score']:.2f})\")\n",
        "\n",
        "        else:\n",
        "            print(\"No articles found.\")\n",
        "            articles = []\n",
        "\n",
        "    else:\n",
        "        print(f\"Error: API returned status code {response.status_code}\")\n",
        "        articles = []\n",
        "\n",
        "except json.JSONDecodeError as e:\n",
        "    print(\"Error decoding JSON response:\", e)\n",
        "    articles = []\n",
        "\n",
        "except requests.exceptions.RequestException as e:\n",
        "    print(\"Request failed:\", e)\n",
        "    articles = []\n"
      ],
      "metadata": {
        "colab": {
          "base_uri": "https://localhost:8080/",
          "height": 876,
          "referenced_widgets": [
            "75dc96cbd76846fc89b405baaeb569e3",
            "1f0ad38b9b0c4d4f9253c35d74800476",
            "c094829c11aa4575a74413c691af3ef2",
            "05b6875c1f5e4232bd39bfba10d9d7cb",
            "1e02b8b2d37348e2a1684bfedd64e0df",
            "3a824b929efb4f66ab6fcc1239349f65",
            "ef58795482cb4071ba9f3c0e892c7274",
            "96b213f544ab497c9ba524d361c4ca29",
            "7782d7020c0a40c6abd370b2ecb23f9a",
            "9d8cc87742bb4bb6ba10eecb7347a492",
            "7ca8cce05f334e578e6541cd7e9fc83b",
            "9a52525153744089810d63edbc338519",
            "ec6d2a80709c41748579b65e890ada99",
            "e7265fb8610a40c79cd549f8c54c1962",
            "7fd38fed62b14e298a81dd5537e80542",
            "0ddb48d554034d7ba56d3c4a988433fd",
            "ebccfe5a51d54b20a0822b85e398ccfb",
            "326b31f599724d6689d262ce05468635",
            "7fae6449e639457e89c2cd826e214d42",
            "9927558172524e5e87c236202662de89",
            "a8df230a9a164abf9d9ee44434a4d77e",
            "554337e0679e4f458507ab62040d5764",
            "429381b0b6804ed9bb3730c6595b9bf4",
            "ba6915c6743c48b2884e1ccb987326e0",
            "a7453d2e0cce40b6bf3fb40e5e027ac6",
            "5127c890b5094ad1830c2a49421f9370",
            "08cdb2dfaab248839b1b58a72771c05e",
            "9e94c3393ee446899acc430203f5c016",
            "a1966c1d3fb0491aaf437e2b2958cdc1",
            "35f2ad2402c74e5a8cfaab4bc4e30daa",
            "0267cb7294914fc8bc2f90edba806b12",
            "4d55d5891cf84280b6cd7c96ce226399",
            "d4d159e35578427a92840d37e24d3ece",
            "7f0911a6e8dd4e95bd1d3c9370b1e6a4",
            "0b807ff7eace4b71bd20f250ead3868c",
            "0606cd94ce324a91bf7744a2d62712f8",
            "a70c25f634e148ad8e2d8f9adb43905c",
            "afd9fdb81dd9484284be9dac1f2ff34d",
            "82be3e6ea6164ffcb5431e3d669ec67e",
            "a6c70a41950b4e9e958fbacd63deb444",
            "82fc82afeb3649e79da35bcc0bf015ef",
            "5d2969ae90b046a28ba88b135cea50c4",
            "282507fc365d4688807112e354942e2f",
            "406e28ff08294b50bdbd51ba18537c5c"
          ]
        },
        "id": "IqSZXK5WXKck",
        "outputId": "b347f63d-a264-4561-f781-d45136353bbe"
      },
      "execution_count": 56,
      "outputs": [
        {
          "output_type": "stream",
          "name": "stdout",
          "text": [
            "Requirement already satisfied: transformers in /usr/local/lib/python3.11/dist-packages (4.48.3)\n",
            "Requirement already satisfied: requests in /usr/local/lib/python3.11/dist-packages (2.32.3)\n",
            "Requirement already satisfied: filelock in /usr/local/lib/python3.11/dist-packages (from transformers) (3.17.0)\n",
            "Requirement already satisfied: huggingface-hub<1.0,>=0.24.0 in /usr/local/lib/python3.11/dist-packages (from transformers) (0.28.1)\n",
            "Requirement already satisfied: numpy>=1.17 in /usr/local/lib/python3.11/dist-packages (from transformers) (1.26.4)\n",
            "Requirement already satisfied: packaging>=20.0 in /usr/local/lib/python3.11/dist-packages (from transformers) (24.2)\n",
            "Requirement already satisfied: pyyaml>=5.1 in /usr/local/lib/python3.11/dist-packages (from transformers) (6.0.2)\n",
            "Requirement already satisfied: regex!=2019.12.17 in /usr/local/lib/python3.11/dist-packages (from transformers) (2024.11.6)\n",
            "Requirement already satisfied: tokenizers<0.22,>=0.21 in /usr/local/lib/python3.11/dist-packages (from transformers) (0.21.0)\n",
            "Requirement already satisfied: safetensors>=0.4.1 in /usr/local/lib/python3.11/dist-packages (from transformers) (0.5.2)\n",
            "Requirement already satisfied: tqdm>=4.27 in /usr/local/lib/python3.11/dist-packages (from transformers) (4.67.1)\n",
            "Requirement already satisfied: charset-normalizer<4,>=2 in /usr/local/lib/python3.11/dist-packages (from requests) (3.4.1)\n",
            "Requirement already satisfied: idna<4,>=2.5 in /usr/local/lib/python3.11/dist-packages (from requests) (3.10)\n",
            "Requirement already satisfied: urllib3<3,>=1.21.1 in /usr/local/lib/python3.11/dist-packages (from requests) (2.3.0)\n",
            "Requirement already satisfied: certifi>=2017.4.17 in /usr/local/lib/python3.11/dist-packages (from requests) (2025.1.31)\n",
            "Requirement already satisfied: fsspec>=2023.5.0 in /usr/local/lib/python3.11/dist-packages (from huggingface-hub<1.0,>=0.24.0->transformers) (2024.10.0)\n",
            "Requirement already satisfied: typing-extensions>=3.7.4.3 in /usr/local/lib/python3.11/dist-packages (from huggingface-hub<1.0,>=0.24.0->transformers) (4.12.2)\n"
          ]
        },
        {
          "output_type": "stream",
          "name": "stderr",
          "text": [
            "No model was supplied, defaulted to distilbert/distilbert-base-uncased-finetuned-sst-2-english and revision 714eb0f (https://huggingface.co/distilbert/distilbert-base-uncased-finetuned-sst-2-english).\n",
            "Using a pipeline without specifying a model name and revision in production is not recommended.\n"
          ]
        },
        {
          "output_type": "stream",
          "name": "stdout",
          "text": [
            "Fetched 5 articles.\n",
            "\n",
            "Latest News Headlines:\n",
            "- Remember When Nanotech Was the Next Big Thing?\n",
            "- Stock Market News for Feb 7, 2025\n",
            "- Jamie Dimon sounds the alarm on stocks, says the market is looking 'kind of inflated'\n",
            "- Intel's former CEO says the market is getting DeepSeek wrong after AI chip stock rout\n",
            "- With tariffs rolled out, invest in these 4 services industries set to get a boost: Morgan Stanley\n"
          ]
        },
        {
          "output_type": "stream",
          "name": "stderr",
          "text": [
            "/usr/local/lib/python3.11/dist-packages/huggingface_hub/utils/_auth.py:94: UserWarning: \n",
            "The secret `HF_TOKEN` does not exist in your Colab secrets.\n",
            "To authenticate with the Hugging Face Hub, create a token in your settings tab (https://huggingface.co/settings/tokens), set it as secret in your Google Colab and restart your session.\n",
            "You will be able to reuse this secret in all of your notebooks.\n",
            "Please note that authentication is recommended but still optional to access public models or datasets.\n",
            "  warnings.warn(\n"
          ]
        },
        {
          "output_type": "display_data",
          "data": {
            "text/plain": [
              "config.json:   0%|          | 0.00/629 [00:00<?, ?B/s]"
            ],
            "application/vnd.jupyter.widget-view+json": {
              "version_major": 2,
              "version_minor": 0,
              "model_id": "75dc96cbd76846fc89b405baaeb569e3"
            }
          },
          "metadata": {}
        },
        {
          "output_type": "display_data",
          "data": {
            "text/plain": [
              "model.safetensors:   0%|          | 0.00/268M [00:00<?, ?B/s]"
            ],
            "application/vnd.jupyter.widget-view+json": {
              "version_major": 2,
              "version_minor": 0,
              "model_id": "9a52525153744089810d63edbc338519"
            }
          },
          "metadata": {}
        },
        {
          "output_type": "display_data",
          "data": {
            "text/plain": [
              "tokenizer_config.json:   0%|          | 0.00/48.0 [00:00<?, ?B/s]"
            ],
            "application/vnd.jupyter.widget-view+json": {
              "version_major": 2,
              "version_minor": 0,
              "model_id": "429381b0b6804ed9bb3730c6595b9bf4"
            }
          },
          "metadata": {}
        },
        {
          "output_type": "display_data",
          "data": {
            "text/plain": [
              "vocab.txt:   0%|          | 0.00/232k [00:00<?, ?B/s]"
            ],
            "application/vnd.jupyter.widget-view+json": {
              "version_major": 2,
              "version_minor": 0,
              "model_id": "7f0911a6e8dd4e95bd1d3c9370b1e6a4"
            }
          },
          "metadata": {}
        },
        {
          "output_type": "stream",
          "name": "stderr",
          "text": [
            "Device set to use cuda:0\n"
          ]
        },
        {
          "output_type": "stream",
          "name": "stdout",
          "text": [
            "\n",
            "Sentiment Analysis Results:\n",
            "Remember When Nanotech Was the Next Big Thing? --> Sentiment: NEGATIVE (Score: 0.99)\n",
            "Stock Market News for Feb 7, 2025 --> Sentiment: NEGATIVE (Score: 0.90)\n",
            "Jamie Dimon sounds the alarm on stocks, says the market is looking 'kind of inflated' --> Sentiment: NEGATIVE (Score: 1.00)\n",
            "Intel's former CEO says the market is getting DeepSeek wrong after AI chip stock rout --> Sentiment: NEGATIVE (Score: 1.00)\n",
            "With tariffs rolled out, invest in these 4 services industries set to get a boost: Morgan Stanley --> Sentiment: POSITIVE (Score: 1.00)\n"
          ]
        }
      ]
    },
    {
      "cell_type": "code",
      "source": [
        "if stock_data.empty:\n",
        "    print(\"Error: No stock data retrieved. Check ticker symbol or internet connection.\")\n"
      ],
      "metadata": {
        "id": "Z0ncDahGCQFm"
      },
      "execution_count": 7,
      "outputs": []
    },
    {
      "cell_type": "code",
      "source": [
        "from google.colab import drive\n",
        "drive.mount('/content/drive')\n",
        "\n",
        "stock_data.to_csv('/content/drive/My Drive/stock_analysis.csv')\n",
        "print(\"Stock data saved successfully!\")\n",
        "\n"
      ],
      "metadata": {
        "colab": {
          "base_uri": "https://localhost:8080/"
        },
        "id": "bNVKj1YrBjDX",
        "outputId": "1604bad6-b441-43f4-a3f8-7fee85bc8d7e"
      },
      "execution_count": 8,
      "outputs": [
        {
          "output_type": "stream",
          "name": "stdout",
          "text": [
            "Drive already mounted at /content/drive; to attempt to forcibly remount, call drive.mount(\"/content/drive\", force_remount=True).\n",
            "Stock data saved successfully!\n"
          ]
        }
      ]
    },
    {
      "cell_type": "code",
      "source": [
        "stock_data['Daily Return'] = stock_data['Close'].pct_change()\n"
      ],
      "metadata": {
        "id": "UlicS0MpCql8"
      },
      "execution_count": 13,
      "outputs": []
    },
    {
      "cell_type": "code",
      "source": [
        "volatility = stock_data['Daily Return'].std() * (252 ** 0.5)  # Annualized\n",
        "print(f\"Annualized Volatility: {volatility:.2%}\")\n"
      ],
      "metadata": {
        "colab": {
          "base_uri": "https://localhost:8080/"
        },
        "id": "z5CoV0YWENPb",
        "outputId": "7018ce65-1e20-46e3-f6bf-da7323efe4d3"
      },
      "execution_count": 14,
      "outputs": [
        {
          "output_type": "stream",
          "name": "stdout",
          "text": [
            "Annualized Volatility: 19.95%\n"
          ]
        }
      ]
    },
    {
      "cell_type": "code",
      "source": [
        "import numpy as np\n",
        "\n",
        "VaR_95 = np.percentile(stock_data['Daily Return'].dropna(), 5)\n",
        "print(f\"95% Value at Risk: {VaR_95:.2%}\")\n"
      ],
      "metadata": {
        "colab": {
          "base_uri": "https://localhost:8080/"
        },
        "id": "Ra25VewsERqc",
        "outputId": "c17f90d7-8135-4be6-cc75-5dd52428151b"
      },
      "execution_count": 15,
      "outputs": [
        {
          "output_type": "stream",
          "name": "stdout",
          "text": [
            "95% Value at Risk: -1.72%\n"
          ]
        }
      ]
    },
    {
      "cell_type": "markdown",
      "source": [
        " Advanced Risk Metrics\n",
        "1. Calculate the Sharpe Ratio"
      ],
      "metadata": {
        "id": "6zMH38NuMaVo"
      }
    },
    {
      "cell_type": "code",
      "source": [
        "risk_free_rate = 0.02  # Assume 2% risk-free return\n",
        "sharpe_ratio = (returns_mean - risk_free_rate) / returns_std\n",
        "print(f\"Sharpe Ratio: {sharpe_ratio:.2f}\")\n"
      ],
      "metadata": {
        "colab": {
          "base_uri": "https://localhost:8080/"
        },
        "id": "pVDQvzs7MZci",
        "outputId": "b609a689-7df2-4ef4-b619-bb99b47a94ec"
      },
      "execution_count": 30,
      "outputs": [
        {
          "output_type": "stream",
          "name": "stdout",
          "text": [
            "Sharpe Ratio: -1.45\n"
          ]
        }
      ]
    },
    {
      "cell_type": "markdown",
      "source": [
        "2.Compute Conditional Value at Risk (CVaR)"
      ],
      "metadata": {
        "id": "JZXYSxi-NBoJ"
      }
    },
    {
      "cell_type": "code",
      "source": [
        "print(stock_data['Daily Return'].isnull().sum())  # Check NaN values\n",
        "print(stock_data['Daily Return'].describe())  # Summary statistics\n"
      ],
      "metadata": {
        "colab": {
          "base_uri": "https://localhost:8080/"
        },
        "id": "GA_m980LNeeC",
        "outputId": "a808c4bd-1bf1-488b-e66d-b31ad9140b2f"
      },
      "execution_count": 32,
      "outputs": [
        {
          "output_type": "stream",
          "name": "stdout",
          "text": [
            "1\n",
            "count    249.000000\n",
            "mean       0.001835\n",
            "std        0.012570\n",
            "min       -0.048020\n",
            "25%       -0.005891\n",
            "50%        0.001879\n",
            "75%        0.008846\n",
            "max        0.046927\n",
            "Name: Daily Return, dtype: float64\n"
          ]
        }
      ]
    },
    {
      "cell_type": "code",
      "source": [
        "print(stock_data.columns)  # See available columns\n"
      ],
      "metadata": {
        "colab": {
          "base_uri": "https://localhost:8080/"
        },
        "id": "tpKFEdjqOAGF",
        "outputId": "0e7b1293-f3fb-40ce-d485-99b3dc284335"
      },
      "execution_count": 34,
      "outputs": [
        {
          "output_type": "stream",
          "name": "stdout",
          "text": [
            "MultiIndex([(       'Close', 'AAPL'),\n",
            "            (        'High', 'AAPL'),\n",
            "            (         'Low', 'AAPL'),\n",
            "            (        'Open', 'AAPL'),\n",
            "            (      'Volume', 'AAPL'),\n",
            "            ('Daily Return',     ''),\n",
            "            (   '50-day MA',     ''),\n",
            "            (  '200-day MA',     '')],\n",
            "           names=['Price', 'Ticker'])\n"
          ]
        }
      ]
    },
    {
      "cell_type": "code",
      "source": [
        "# Access the 'Daily Return' column properly\n",
        "stock_data[('Daily Return', '')] = stock_data[('Close', 'AAPL')].pct_change()\n",
        "\n",
        "# Drop NaN values\n",
        "stock_data = stock_data.dropna(subset=[('Daily Return', '')])\n",
        "\n",
        "# Compute 95% VaR\n",
        "VaR_95 = stock_data[('Daily Return', '')].quantile(0.05) * 100\n",
        "print(f\"95% Value at Risk (VaR): {VaR_95:.2f}%\")\n"
      ],
      "metadata": {
        "colab": {
          "base_uri": "https://localhost:8080/"
        },
        "id": "Q4zqOhK8NmSx",
        "outputId": "dce3e300-16eb-46d1-ac6c-29e3c7857bd1"
      },
      "execution_count": 36,
      "outputs": [
        {
          "output_type": "stream",
          "name": "stdout",
          "text": [
            "95% Value at Risk (VaR): -1.72%\n"
          ]
        }
      ]
    },
    {
      "cell_type": "code",
      "source": [
        "import numpy as np\n",
        "\n",
        "confidence_level = 0.95\n",
        "VaR_95 = np.percentile(stock_data['Daily Return'], 100 * (1 - confidence_level))\n",
        "CVaR_95 = stock_data['Daily Return'][stock_data['Daily Return'] <= VaR_95].mean()\n",
        "\n",
        "print(f\"95% VaR: {VaR_95:.2%}, 95% CVaR: {CVaR_95:.2%}\")\n"
      ],
      "metadata": {
        "colab": {
          "base_uri": "https://localhost:8080/"
        },
        "id": "ccsNZrixNEnA",
        "outputId": "07f0b5fd-3f95-4af6-d404-0f193e70b611"
      },
      "execution_count": 37,
      "outputs": [
        {
          "output_type": "stream",
          "name": "stdout",
          "text": [
            "95% VaR: -1.72%, 95% CVaR: -2.50%\n"
          ]
        }
      ]
    },
    {
      "cell_type": "markdown",
      "source": [
        "3.Calculate Beta (Stock Market Sensitivity)"
      ],
      "metadata": {
        "id": "1QxwfdmBPBA7"
      }
    },
    {
      "cell_type": "code",
      "source": [
        "# Assuming 'Adj Close' contains stock prices\n",
        "stock_returns = stock_data['Close'].pct_change().dropna()\n",
        "market_returns = market_data['Close'].pct_change().dropna()\n",
        "\n",
        "# Check if they exist\n",
        "print(f\"Stock Returns Length: {len(stock_returns)}\")\n",
        "print(f\"Market Returns Length: {len(market_returns)}\")\n"
      ],
      "metadata": {
        "colab": {
          "base_uri": "https://localhost:8080/"
        },
        "id": "wvVV2xphPtNB",
        "outputId": "2436c088-1e60-4553-bd12-242e5348ac23"
      },
      "execution_count": 44,
      "outputs": [
        {
          "output_type": "stream",
          "name": "stdout",
          "text": [
            "Stock Returns Length: 248\n",
            "Market Returns Length: 249\n"
          ]
        }
      ]
    },
    {
      "cell_type": "code",
      "source": [
        "returns_df = pd.concat([stock_returns, market_returns], axis=1).dropna()\n",
        "stock_returns = returns_df.iloc[:, 0]  # Reassign aligned stock returns\n",
        "market_returns = returns_df.iloc[:, 1]  # Reassign aligned market returns\n",
        "\n",
        "print(f\"Stock Returns Length (After Fix): {len(stock_returns)}\")\n",
        "print(f\"Market Returns Length (After Fix): {len(market_returns)}\")\n"
      ],
      "metadata": {
        "colab": {
          "base_uri": "https://localhost:8080/"
        },
        "id": "I4crLr-VQWtw",
        "outputId": "9bde6c1e-2c93-47d0-f1dc-f1131f7a74fc"
      },
      "execution_count": 45,
      "outputs": [
        {
          "output_type": "stream",
          "name": "stdout",
          "text": [
            "Stock Returns Length (After Fix): 248\n",
            "Market Returns Length (After Fix): 248\n"
          ]
        }
      ]
    },
    {
      "cell_type": "markdown",
      "source": [
        "Beta > 1 → Stock is more volatile than the market.\n",
        "Beta < 1 → Stock is less volatile than the market.\n",
        "Beta ≈ 1 → Stock moves in sync with the market.\n"
      ],
      "metadata": {
        "id": "QHEd6K0HQ9Xa"
      }
    },
    {
      "cell_type": "code",
      "source": [
        "import numpy as np\n",
        "\n",
        "# Step 1: Align stock and market returns (already done)\n",
        "returns_df = pd.concat([stock_returns, market_returns], axis=1).dropna()\n",
        "stock_returns = returns_df.iloc[:, 0]\n",
        "market_returns = returns_df.iloc[:, 1]\n",
        "\n",
        "# Step 2: Perform linear regression to find Beta\n",
        "cov_matrix = np.cov(stock_returns, market_returns)  # Compute covariance matrix\n",
        "beta = cov_matrix[0, 1] / cov_matrix[1, 1]  # Beta = Cov(Stock, Market) / Var(Market)\n",
        "\n",
        "print(f\"Calculated Beta: {beta:.2f}\")\n"
      ],
      "metadata": {
        "colab": {
          "base_uri": "https://localhost:8080/"
        },
        "id": "DZofT6TYQnea",
        "outputId": "2d1ee3bb-6826-4625-cb2e-0f2494210f3f"
      },
      "execution_count": 47,
      "outputs": [
        {
          "output_type": "stream",
          "name": "stdout",
          "text": [
            "Calculated Beta: 1.10\n"
          ]
        }
      ]
    },
    {
      "cell_type": "markdown",
      "source": [
        "50-day and 200-day moving averages (MA) for a stock based on its closing price."
      ],
      "metadata": {
        "id": "UAxEmvttTPO8"
      }
    },
    {
      "cell_type": "code",
      "source": [
        "stock_data.loc[:, '50-day MA'] = stock_data['Close'].rolling(window=50).mean()\n",
        "stock_data.loc[:, '200-day MA'] = stock_data['Close'].rolling(window=200).mean()\n"
      ],
      "metadata": {
        "id": "UxlCl4htEVsQ"
      },
      "execution_count": 48,
      "outputs": []
    },
    {
      "cell_type": "code",
      "source": [
        "print(stock_data.head())  # Check existing columns\n",
        "print(stock_data.columns)  # Confirm column names\n"
      ],
      "metadata": {
        "colab": {
          "base_uri": "https://localhost:8080/"
        },
        "id": "g49zzqPISfmR",
        "outputId": "e058f85a-2e28-4714-827c-c916ab2f638d"
      },
      "execution_count": 51,
      "outputs": [
        {
          "output_type": "stream",
          "name": "stdout",
          "text": [
            "Price            Close        High         Low        Open    Volume  \\\n",
            "Ticker            AAPL        AAPL        AAPL        AAPL      AAPL   \n",
            "Date                                                                   \n",
            "2023-01-04  124.907707  127.181276  123.642420  125.431615  89113600   \n",
            "2023-01-05  123.583107  126.301500  123.326101  125.668857  80962700   \n",
            "2023-01-06  128.130219  128.792516  123.454587  124.561717  87754700   \n",
            "2023-01-09  128.654144  131.876686  128.397138  128.970474  70790800   \n",
            "2023-01-10  129.227493  129.751401  126.647490  128.762894  63896200   \n",
            "\n",
            "Price      Daily Return 50-day MA 200-day MA  \n",
            "Ticker                                        \n",
            "Date                                          \n",
            "2023-01-04     0.010314       NaN        NaN  \n",
            "2023-01-05    -0.010605       NaN        NaN  \n",
            "2023-01-06     0.036794       NaN        NaN  \n",
            "2023-01-09     0.004089       NaN        NaN  \n",
            "2023-01-10     0.004457       NaN        NaN  \n",
            "MultiIndex([(       'Close', 'AAPL'),\n",
            "            (        'High', 'AAPL'),\n",
            "            (         'Low', 'AAPL'),\n",
            "            (        'Open', 'AAPL'),\n",
            "            (      'Volume', 'AAPL'),\n",
            "            ('Daily Return',     ''),\n",
            "            (   '50-day MA',     ''),\n",
            "            (  '200-day MA',     '')],\n",
            "           names=['Price', 'Ticker'])\n"
          ]
        }
      ]
    },
    {
      "cell_type": "code",
      "source": [
        "stock_data.loc[:, ('50-day MA', '')] = stock_data.loc[:, ('Close', 'AAPL')].rolling(window=50).mean()\n",
        "stock_data.loc[:, ('200-day MA', '')] = stock_data.loc[:, ('Close', 'AAPL')].rolling(window=200).mean()\n"
      ],
      "metadata": {
        "id": "LGLezt_PSrrL"
      },
      "execution_count": 53,
      "outputs": []
    },
    {
      "cell_type": "code",
      "source": [
        "stock_data = stock_data.dropna(subset=[('50-day MA', ''), ('200-day MA', '')])\n"
      ],
      "metadata": {
        "id": "tNUZJfGuS7tO"
      },
      "execution_count": 54,
      "outputs": []
    },
    {
      "cell_type": "code",
      "source": [
        "import matplotlib.pyplot as plt\n",
        "\n",
        "plt.figure(figsize=(12, 6))\n",
        "plt.plot(stock_data.index, stock_data[('Close', 'AAPL')], label='Closing Price', alpha=0.7, color='blue')\n",
        "plt.plot(stock_data.index, stock_data[('50-day MA', '')], label='50-day MA', linestyle='dashed', color='red', linewidth=2)\n",
        "plt.plot(stock_data.index, stock_data[('200-day MA', '')], label='200-day MA', linestyle='dotted', color='green', linewidth=2)\n",
        "\n",
        "plt.title(\"Stock Price with 50-day & 200-day Moving Averages\")\n",
        "plt.xlabel(\"Date\")\n",
        "plt.ylabel(\"Price\")\n",
        "plt.legend()\n",
        "plt.grid(True)\n",
        "plt.show()\n"
      ],
      "metadata": {
        "colab": {
          "base_uri": "https://localhost:8080/",
          "height": 564
        },
        "id": "sZJ_sEpjS-l2",
        "outputId": "4a43e1bb-bc9c-4c52-a79f-f12f296d6b03"
      },
      "execution_count": 55,
      "outputs": [
        {
          "output_type": "display_data",
          "data": {
            "text/plain": [
              "<Figure size 1200x600 with 1 Axes>"
            ],
            "image/png": "[encoded data removed]"
          },
          "metadata": {}
        }
      ]
    },
    {
      "cell_type": "code",
      "source": [
        "# Assume a portfolio with weights in AAPL and MSFT\n",
        "weights = [0.6, 0.4]  # 60% AAPL, 40% MSFT\n",
        "tickers = [\"AAPL\", \"MSFT\"]\n",
        "\n",
        "# Fetch data\n",
        "data = yf.download(tickers, start=\"2023-01-01\", end=\"2024-01-01\")['Close']\n",
        "\n",
        "# Compute daily returns\n",
        "returns = data.pct_change().dropna()\n",
        "\n",
        "# Portfolio return\n",
        "portfolio_return = np.dot(weights, returns.mean()) * 252\n",
        "print(f\"Expected Annual Portfolio Return: {portfolio_return:.2%}\")\n",
        "\n",
        "# Portfolio volatility (risk)\n",
        "cov_matrix = returns.cov() * 252\n",
        "portfolio_volatility = np.sqrt(np.dot(weights, np.dot(cov_matrix, weights)))\n",
        "print(f\"Portfolio Volatility: {portfolio_volatility:.2%}\")\n"
      ],
      "metadata": {
        "colab": {
          "base_uri": "https://localhost:8080/"
        },
        "id": "3cXKc_b9EfbZ",
        "outputId": "70d00cc0-5336-4641-bdeb-276db6ae0c12"
      },
      "execution_count": 19,
      "outputs": [
        {
          "output_type": "stream",
          "name": "stderr",
          "text": [
            "[*********************100%***********************]  2 of 2 completed"
          ]
        },
        {
          "output_type": "stream",
          "name": "stdout",
          "text": [
            "Expected Annual Portfolio Return: 47.62%\n",
            "Portfolio Volatility: 19.39%\n"
          ]
        },
        {
          "output_type": "stream",
          "name": "stderr",
          "text": [
            "\n"
          ]
        }
      ]
    },
    {
      "cell_type": "code",
      "source": [
        "stock_data.to_excel(\"stock_analysis.xlsx\")\n"
      ],
      "metadata": {
        "id": "7ASIywaqEpJi"
      },
      "execution_count": 20,
      "outputs": []
    },
    {
      "cell_type": "code",
      "source": [
        "import matplotlib.pyplot as plt\n",
        "\n",
        "# Set figure size\n",
        "plt.figure(figsize=(12, 6))\n",
        "\n",
        "# Plot all simulations with reduced opacity\n",
        "for i in range(1000):\n",
        "    plt.plot(simulated_prices[i], color=\"blue\", alpha=0.05)  # Very light lines\n",
        "\n",
        "# Highlight a few random paths for clarity\n",
        "for i in np.random.choice(1000, 10, replace=False):\n",
        "    plt.plot(simulated_prices[i], linewidth=1.2, alpha=0.5)  # Some visible paths\n",
        "\n",
        "# Highlight the average simulated path\n",
        "mean_simulation = simulated_prices.mean(axis=0)\n",
        "plt.plot(mean_simulation, color=\"red\", linewidth=2, label=\"Mean Path\")\n",
        "\n",
        "# Titles & Labels\n",
        "plt.title(\"Monte Carlo Simulation for Stock Price\", fontsize=14)\n",
        "plt.xlabel(\"Days\", fontsize=12)\n",
        "plt.ylabel(\"Simulated Stock Price\", fontsize=12)\n",
        "plt.legend()\n",
        "plt.show()\n"
      ],
      "metadata": {
        "colab": {
          "base_uri": "https://localhost:8080/",
          "height": 569
        },
        "id": "wjm-8PjaEu_Q",
        "outputId": "f45e920b-fc4d-4cb0-ff67-c229a480f86e"
      },
      "execution_count": 24,
      "outputs": [
        {
          "output_type": "display_data",
          "data": {
            "text/plain": [
              "<Figure size 1200x600 with 1 Axes>"
            ],
            "image/png": "[encoded data removed]"
          },
          "metadata": {}
        }
      ]
    }
  ]
}
